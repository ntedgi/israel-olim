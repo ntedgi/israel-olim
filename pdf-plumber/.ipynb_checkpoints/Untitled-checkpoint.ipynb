{
 "cells": [
  {
   "cell_type": "code",
   "execution_count": 5,
   "id": "9e7a164b-2163-4434-9c5b-68cc73b53b33",
   "metadata": {},
   "outputs": [
    {
     "name": "stdout",
     "output_type": "stream",
     "text": [
      "<Page:1>\n"
     ]
    },
    {
     "ename": "NameError",
     "evalue": "name 'my_pdf' is not defined",
     "output_type": "error",
     "traceback": [
      "\u001b[0;31m---------------------------------------------------------------------------\u001b[0m",
      "\u001b[0;31mNameError\u001b[0m                                 Traceback (most recent call last)",
      "Cell \u001b[0;32mIn[5], line 6\u001b[0m\n\u001b[1;32m      4\u001b[0m first_page \u001b[38;5;241m=\u001b[39m pdf\u001b[38;5;241m.\u001b[39mpages[\u001b[38;5;241m0\u001b[39m]\n\u001b[1;32m      5\u001b[0m \u001b[38;5;28mprint\u001b[39m(first_page)\n\u001b[0;32m----> 6\u001b[0m im \u001b[38;5;241m=\u001b[39m \u001b[43mmy_pdf\u001b[49m\u001b[38;5;241m.\u001b[39mpages[\u001b[38;5;241m0\u001b[39m]\u001b[38;5;241m.\u001b[39mto_image(resolution\u001b[38;5;241m=\u001b[39m\u001b[38;5;241m150\u001b[39m)\n",
      "\u001b[0;31mNameError\u001b[0m: name 'my_pdf' is not defined"
     ]
    }
   ],
   "source": [
    "import pdfplumber\n",
    "\n",
    "with pdfplumber.open(\"./00071706.81.CE.C0.4F.pdf\") as pdf:\n",
    "    first_page = pdf.pages[0]\n",
    "    print(first_page)\n",
    "    im = pdf.pages[0].to_image(resolution=150)\n"
   ]
  },
  {
   "cell_type": "code",
   "execution_count": null,
   "id": "064ceb4a-2d5c-45db-a7d1-4c8e92c8e920",
   "metadata": {},
   "outputs": [],
   "source": []
  }
 ],
 "metadata": {
  "kernelspec": {
   "display_name": "Python 3 (ipykernel)",
   "language": "python",
   "name": "python3"
  },
  "language_info": {
   "codemirror_mode": {
    "name": "ipython",
    "version": 3
   },
   "file_extension": ".py",
   "mimetype": "text/x-python",
   "name": "python",
   "nbconvert_exporter": "python",
   "pygments_lexer": "ipython3",
   "version": "3.11.3"
  }
 },
 "nbformat": 4,
 "nbformat_minor": 5
}
