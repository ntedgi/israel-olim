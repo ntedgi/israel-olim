{
 "cells": [
  {
   "cell_type": "code",
   "execution_count": 9,
   "id": "9e7a164b-2163-4434-9c5b-68cc73b53b33",
   "metadata": {},
   "outputs": [],
   "source": [
    "import pdfplumber\n",
    "\n",
    "with pdfplumber.open(\"./00071706.81.CE.C0.4F.pdf\") as pdf:\n",
    "    first_page = pdf.pages[0]\n",
    "    im = pdf.pages[12].to_image(resolution=150)\n"
   ]
  },
  {
   "cell_type": "code",
   "execution_count": null,
   "id": "064ceb4a-2d5c-45db-a7d1-4c8e92c8e920",
   "metadata": {},
   "outputs": [],
   "source": []
  }
 ],
 "metadata": {
  "kernelspec": {
   "display_name": "Python 3 (ipykernel)",
   "language": "python",
   "name": "python3"
  },
  "language_info": {
   "codemirror_mode": {
    "name": "ipython",
    "version": 3
   },
   "file_extension": ".py",
   "mimetype": "text/x-python",
   "name": "python",
   "nbconvert_exporter": "python",
   "pygments_lexer": "ipython3",
   "version": "3.11.3"
  }
 },
 "nbformat": 4,
 "nbformat_minor": 5
}
